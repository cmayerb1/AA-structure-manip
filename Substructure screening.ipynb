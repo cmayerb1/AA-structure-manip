{
 "cells": [
  {
   "cell_type": "markdown",
   "id": "5e53bc8d",
   "metadata": {},
   "source": [
    "# This notebook performs a goodlist/badlist substructure screening for a multi-molecule .sdf input file.  Both goodlist(s) and badlist(s) should be in .sdf format as well.  Also screens for rings of a minimum size, and maximum bond order.  If no goodlists or badlists are provided, the script will remove structures with 3- or 4-membered rings and any molecules containing triple bonds."
   ]
  },
  {
   "cell_type": "markdown",
   "id": "c83c3273",
   "metadata": {},
   "source": [
    "## Module imports below"
   ]
  },
  {
   "cell_type": "code",
   "execution_count": 1,
   "id": "21aff8b6",
   "metadata": {},
   "outputs": [],
   "source": [
    "from rdkit import Chem\n",
    "import re"
   ]
  },
  {
   "cell_type": "markdown",
   "id": "75bfaf3b",
   "metadata": {},
   "source": [
    "## Function definitions below"
   ]
  },
  {
   "cell_type": "code",
   "execution_count": 2,
   "id": "b26200ee",
   "metadata": {},
   "outputs": [],
   "source": [
    "def bracketRemove(smi):\n",
    "    \"\"\"Remove brackets from string.\n",
    "    \n",
    "    Removes brackets that surround single characters in a string.  Written to remove brackets from around single atoms in some SMILES strings where they are not useful to the program.\n",
    "\n",
    "    Parameters\n",
    "    ----------\n",
    "    smi : string\n",
    "\n",
    "    Returns\n",
    "    -------\n",
    "    Input string without brackets surrounding single letters\n",
    "\n",
    "    \"\"\"\n",
    "    m = re.sub(r\"\\[(\\w)]\", r'\\1', smi)\n",
    "    return m"
   ]
  },
  {
   "cell_type": "code",
   "execution_count": 3,
   "id": "2d0bce5c",
   "metadata": {},
   "outputs": [],
   "source": [
    "def minRingSize(mol, ring_min):\n",
    "    \"\"\"Determine presence of too-small rings.\n",
    "    \n",
    "    Determine if there are rings present (size 3 or greater) that are smaller than a user-defined minimum.\n",
    "\n",
    "    Parameters\n",
    "    ----------\n",
    "    mol : RDKit Mol object\n",
    "    \n",
    "    ring_min : int\n",
    "        Minimum ring size desired.  E.g. If ring_min = 6, then the function will look for rings of size 3, 4, and 5.\n",
    "\n",
    "    Returns\n",
    "    -------\n",
    "    True if there are no rings below the specified minimum ring size; returns False otherwise.\n",
    "\n",
    "    \"\"\"\n",
    "    ring_atoms = mol.GetRingInfo().AtomRings()\n",
    "    sizes = set([len(a) for a in ring_atoms]) #lengths of all ring systems in molecule\n",
    "    mins = set(list(range(3,ring_min)))\n",
    "    return sizes.isdisjoint(mins)"
   ]
  },
  {
   "cell_type": "code",
   "execution_count": 4,
   "id": "02d1d5d5",
   "metadata": {},
   "outputs": [],
   "source": [
    "def maxBonds(mol, bonds):\n",
    "    \"\"\"Test maximum bond order of input molecule.\n",
    "    \n",
    "    Tests if a molecule has a bond order equal to the input value.\n",
    "\n",
    "    Parameters\n",
    "    ----------\n",
    "    mol : RDKit Mol object\n",
    "    \n",
    "    bonds : float\n",
    "        Maximum bond order desired in a molecule.\n",
    "\n",
    "    Returns\n",
    "    -------\n",
    "    True if at least one bond in the molecule has the specified bond order.  Returns False otherwise.\n",
    "\n",
    "    \"\"\"\n",
    "    bonds = float(bonds)\n",
    "    max_bonds = False\n",
    "    for b in mol.GetBonds():\n",
    "        if b.GetBondTypeAsDouble() == bonds:\n",
    "            max_bonds = True\n",
    "            break\n",
    "        else:\n",
    "            continue\n",
    "    return max_bonds"
   ]
  },
  {
   "cell_type": "markdown",
   "id": "7018f596",
   "metadata": {},
   "source": [
    "## Enter screening parameters in the cell below.  All filenames must be in .sdf format.  In the case of multiple goodlist and/or badlist files, enter each filename as a string between the square brackets, with a comma separating each string."
   ]
  },
  {
   "cell_type": "code",
   "execution_count": 5,
   "id": "72156ea5",
   "metadata": {},
   "outputs": [],
   "source": [
    "in_file = \"PC[0-3]H[3-9].sdf\"\n",
    "out_file = \"VAIL-P.sdf\"\n",
    "goodlist = []\n",
    "badlist = [\"BadAaList_OB.sdf\", \"BadAromaticsList_OB.sdf\", \"BadRingList_OB.sdf\", \"allene.sdf\"]\n",
    "max_bond = 3\n",
    "min_ring = 5"
   ]
  },
  {
   "cell_type": "markdown",
   "id": "f4a995a3",
   "metadata": {},
   "source": [
    "## Main program"
   ]
  },
  {
   "cell_type": "code",
   "execution_count": 6,
   "id": "aacacd29",
   "metadata": {},
   "outputs": [],
   "source": [
    "# load in source data file\n",
    "data = Chem.SDMolSupplier(in_file)\n",
    "data_set = set([Chem.MolToSmiles(m) for m in data]) # set of all input SMILES\n",
    "bad_mols = set() # set of SMILES for molecules with unwanted substructures; output will lack these molecules"
   ]
  },
  {
   "cell_type": "code",
   "execution_count": 7,
   "id": "a2447c4b",
   "metadata": {},
   "outputs": [
    {
     "data": {
      "text/plain": [
       "34"
      ]
     },
     "execution_count": 7,
     "metadata": {},
     "output_type": "execute_result"
    }
   ],
   "source": [
    "# perform ring size screening\n",
    "for mol in data:\n",
    "    if not minRingSize(mol, min_ring): #evaluates as True if molecule has a ring below the stated minimum size\n",
    "        bad_mols.add(Chem.MolToSmiles(mol))\n",
    "len(bad_mols)"
   ]
  },
  {
   "cell_type": "code",
   "execution_count": 8,
   "id": "4d9181a2",
   "metadata": {},
   "outputs": [
    {
     "data": {
      "text/plain": [
       "43"
      ]
     },
     "execution_count": 8,
     "metadata": {},
     "output_type": "execute_result"
    }
   ],
   "source": [
    "# perform bond order screening\n",
    "for mol in data:\n",
    "    if maxBonds(mol, max_bond):\n",
    "        bad_mols.add(Chem.MolToSmiles(mol))\n",
    "len(bad_mols)"
   ]
  },
  {
   "cell_type": "code",
   "execution_count": 10,
   "id": "5a565b3e",
   "metadata": {},
   "outputs": [
    {
     "data": {
      "text/plain": [
       "48"
      ]
     },
     "execution_count": 10,
     "metadata": {},
     "output_type": "execute_result"
    }
   ],
   "source": [
    "# check for unwanted substructures\n",
    "if len(badlist) > 0:\n",
    "    # collapse all badlist substructures into a list\n",
    "    bad_substructs = []\n",
    "    for x in badlist:\n",
    "        bad = Chem.SDMolSupplier(x)\n",
    "        for y in bad:\n",
    "            bad_substructs.append(y)\n",
    "    for mol in data:\n",
    "        bad_chk = False\n",
    "        for bad in bad_substructs:\n",
    "            if not bad_chk:\n",
    "                if mol.HasSubstructMatch(bad):\n",
    "                    bad_chk = True\n",
    "                    break\n",
    "                else:\n",
    "                    continue\n",
    "            else:\n",
    "                continue\n",
    "        if bad_chk:\n",
    "            bad_mols.add(Chem.MolToSmiles(mol))\n",
    "len(bad_mols)"
   ]
  },
  {
   "cell_type": "code",
   "execution_count": 11,
   "id": "bab517bc",
   "metadata": {},
   "outputs": [
    {
     "data": {
      "text/plain": [
       "48"
      ]
     },
     "execution_count": 11,
     "metadata": {},
     "output_type": "execute_result"
    }
   ],
   "source": [
    "# check for desired substructures (must be included in output)\n",
    "if len(goodlist) > 0:\n",
    "    # collapse all goodlist substructures into a list\n",
    "    good_substructs = []\n",
    "    for x in args.goodlists:\n",
    "        good = Chem.SDMolSupplier(x)\n",
    "        for y in good:\n",
    "            good_substructs.append(Chem.MolFromSmiles(bracketRemove(Chem.MolToSmiles(y))))\n",
    "    for mol in data:\n",
    "        for good in good_substructs:\n",
    "            if not mol.HasSubstructMatch(good): # evaluates as True if the structure lacks a goodlist substructure\n",
    "                bad_mols.add(Chem.MolToSmiles(mol))\n",
    "len(bad_mols)"
   ]
  },
  {
   "cell_type": "code",
   "execution_count": 12,
   "id": "8eda8854",
   "metadata": {},
   "outputs": [],
   "source": [
    "# calculate and output filtered molecules\n",
    "out_mols = list(data_set - bad_mols)\n",
    "w = Chem.SDWriter(out_file)\n",
    "for mol in out_mols:\n",
    "    m2 = Chem.MolFromSmiles(mol)\n",
    "    w.write(m2)\n",
    "w.close()"
   ]
  },
  {
   "cell_type": "markdown",
   "id": "dd8df264",
   "metadata": {},
   "source": [
    "## No removal of allenes, need to investigate"
   ]
  },
  {
   "cell_type": "code",
   "execution_count": null,
   "id": "cbb99949",
   "metadata": {},
   "outputs": [],
   "source": [
    "results = Chem.SDMolSupplier(\"VAIL-P.sdf\")\n",
    "results[10]"
   ]
  },
  {
   "cell_type": "code",
   "execution_count": null,
   "id": "51e4dda9",
   "metadata": {},
   "outputs": [],
   "source": [
    "allene = Chem.SDMolSupplier(\"allene.sdf\")\n",
    "results[10].HasSubstructMatch(allene[0])"
   ]
  },
  {
   "cell_type": "code",
   "execution_count": null,
   "id": "9da65d96",
   "metadata": {},
   "outputs": [],
   "source": [
    "results[10].HasSubstructMatch(Chem.MolFromSmarts(\"[CX4&D2]\"))"
   ]
  },
  {
   "cell_type": "code",
   "execution_count": null,
   "id": "f42f2b89",
   "metadata": {},
   "outputs": [],
   "source": [
    "[Chem.MolToSmiles(x) for x in bad_substructs]"
   ]
  },
  {
   "cell_type": "code",
   "execution_count": null,
   "id": "12733f2e",
   "metadata": {},
   "outputs": [],
   "source": [
    "# broader allene definition, include aliphatic and aromatic C\n",
    "allene = Chem.MolFromSmarts(\"[#6](=[*])=[*]\")\n",
    "w = Chem.SDWriter(\"allene.sdf\")\n",
    "w.write(allene)\n",
    "w.close()"
   ]
  },
  {
   "cell_type": "code",
   "execution_count": null,
   "id": "9f23dec8",
   "metadata": {},
   "outputs": [],
   "source": []
  }
 ],
 "metadata": {
  "kernelspec": {
   "display_name": "Python 3 (ipykernel)",
   "language": "python",
   "name": "python3"
  },
  "language_info": {
   "codemirror_mode": {
    "name": "ipython",
    "version": 3
   },
   "file_extension": ".py",
   "mimetype": "text/x-python",
   "name": "python",
   "nbconvert_exporter": "python",
   "pygments_lexer": "ipython3",
   "version": "3.7.11"
  }
 },
 "nbformat": 4,
 "nbformat_minor": 5
}
