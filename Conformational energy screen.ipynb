{
 "cells": [
  {
   "cell_type": "markdown",
   "id": "dec5488e",
   "metadata": {},
   "source": [
    "# This notebook calculates the minimum conformational energy of each molecule, and returns a .sdf file with the input molecules sorted by increasing energy of their lowest energy conformer.  Uses MMFF94 forcefield implementation in RDKit."
   ]
  },
  {
   "cell_type": "markdown",
   "id": "523c4d47",
   "metadata": {},
   "source": [
    "## Module imports below"
   ]
  },
  {
   "cell_type": "code",
   "execution_count": 1,
   "id": "d0b8af6e",
   "metadata": {},
   "outputs": [],
   "source": [
    "from rdkit import Chem\n",
    "from rdkit.Chem import AllChem\n",
    "from rdkit.Chem import rdDistGeom"
   ]
  },
  {
   "cell_type": "markdown",
   "id": "60f3bd50",
   "metadata": {},
   "source": [
    "## Function definitions below"
   ]
  },
  {
   "cell_type": "code",
   "execution_count": 2,
   "id": "beda9719",
   "metadata": {},
   "outputs": [],
   "source": [
    "def minConfEnergy(mol):\n",
    "    \"\"\"Find lowest energy (kcal/mol) conformation of the input molecule.\n",
    "    \n",
    "    From an input molecule, generates 50 conformers, minimizes and calculates their conformational energies using MMFF94 forcefield, then returns the lowest energy.\n",
    "    \n",
    "\n",
    "    Parameters\n",
    "    ----------\n",
    "    mol : RDKit Mol object\n",
    "\n",
    "    Returns\n",
    "    -------\n",
    "    Conformational energy (kcal/mol) (float)\n",
    "\n",
    "    \"\"\"\n",
    "    mol_h = Chem.AddHs(mol, addCoords=True) #add hydrogens, create coordinates\n",
    "    param = rdDistGeom.ETKDGv2()\n",
    "    cids = rdDistGeom.EmbedMultipleConfs(mol_h, 50, param)\n",
    "    mp = AllChem.MMFFGetMoleculeProperties(mol_h, mmffVariant='MMFF94')\n",
    "    AllChem.MMFFOptimizeMoleculeConfs(mol_h, numThreads=0, mmffVariant='MMFF94') #optimize all conformations\n",
    "    res = [] # list of conformer energies\n",
    "    for cid in cids:\n",
    "        ff = AllChem.MMFFGetMoleculeForceField(mol_h, mp, confId=cid)\n",
    "        e = ff.CalcEnergy()\n",
    "        res.append(e)\n",
    "    return min(res)"
   ]
  },
  {
   "cell_type": "markdown",
   "id": "735118c0",
   "metadata": {},
   "source": [
    "## Enter input and output filenames (must be in .sdf format) in cell below"
   ]
  },
  {
   "cell_type": "code",
   "execution_count": null,
   "id": "75fa7d1c",
   "metadata": {},
   "outputs": [],
   "source": [
    "in_file = \"<enter input filepath here>\"\n",
    "out_file = \"<enter desired output filepath>\""
   ]
  },
  {
   "cell_type": "markdown",
   "id": "87ae8e2f",
   "metadata": {},
   "source": [
    "## Main program"
   ]
  },
  {
   "cell_type": "code",
   "execution_count": null,
   "id": "941d0794",
   "metadata": {},
   "outputs": [],
   "source": [
    "# load in data file\n",
    "data = Chem.SDMolSupplier(in_file)\n",
    "smiles = [Chem.MolToSmiles(mol) for mol in data]\n",
    "energies = []\n",
    "for x in range(len(data)):\n",
    "    print(f\"Processing molecule {x+1} of {len(data)}\", end='\\r', flush=True)\n",
    "    energies.append(minConfEnergy(data[x]))\n",
    "energies_sorted = [e for e, s in sorted(zip(energies, smiles))]\n",
    "mols_sorted = [Chem.MolFromSmiles(s) for e, s in sorted(zip(energies, smiles))]\n",
    "# create SD file writer, add energy property to each structure\n",
    "writer = Chem.SDWriter(out_file)\n",
    "for x in range(len(mols_sorted)):\n",
    "    mols_sorted[x].SetDoubleProp(\"Energy\", energies_sorted[x])\n",
    "    writer.write(mols_sorted[x])\n",
    "writer.close()"
   ]
  }
 ],
 "metadata": {
  "kernelspec": {
   "display_name": "Python 3 (ipykernel)",
   "language": "python",
   "name": "python3"
  },
  "language_info": {
   "codemirror_mode": {
    "name": "ipython",
    "version": 3
   },
   "file_extension": ".py",
   "mimetype": "text/x-python",
   "name": "python",
   "nbconvert_exporter": "python",
   "pygments_lexer": "ipython3",
   "version": "3.7.11"
  }
 },
 "nbformat": 4,
 "nbformat_minor": 5
}
