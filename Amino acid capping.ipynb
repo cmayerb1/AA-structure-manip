{
 "cells": [
  {
   "cell_type": "markdown",
   "id": "e1c48cb0",
   "metadata": {},
   "source": [
    "# This notebook contains code for adding amide bond caps to alpha-amino acids.  This concept was described in Ilardo et al. (2015) (https://doi.org/10.1038/srep09414) using MOLGEN; current approach using RDKit used in Mayer-Bacon and Freeland (2021) (https://doi.org/10.1016/j.jtbi.2021.110661)."
   ]
  },
  {
   "cell_type": "markdown",
   "id": "d309a124",
   "metadata": {},
   "source": [
    "## Enter input and output filenames (must be in .sdf format) in cell below"
   ]
  },
  {
   "cell_type": "code",
   "execution_count": null,
   "id": "e8ce77c7",
   "metadata": {},
   "outputs": [],
   "source": [
    "in_file = \"C:\\\\Users\\\\umbci\\\\Desktop\\\\MAYGEN\\\\Libraries\\\\VAIL_S.sdf\"\n",
    "out_file = \"C:\\\\Users\\\\umbci\\\\Desktop\\\\MAYGEN\\\\Libraries\\\\VAIL_S_cap.sdf\""
   ]
  },
  {
   "cell_type": "markdown",
   "id": "1ea72229",
   "metadata": {},
   "source": [
    "### If you encounter a SyntaxError mentioning a unicode error, make sure there are no single backslashes (\\\\) in the file names.  Change any single backslashes to double backslashes (\\\\\\\\) or forward slashes (/)."
   ]
  },
  {
   "cell_type": "markdown",
   "id": "88a655f4",
   "metadata": {},
   "source": [
    "## Module imports below"
   ]
  },
  {
   "cell_type": "code",
   "execution_count": null,
   "id": "a91e7010",
   "metadata": {},
   "outputs": [],
   "source": [
    "from rdkit import Chem\n",
    "from rdkit.Chem import rdChemReactions"
   ]
  },
  {
   "cell_type": "markdown",
   "id": "dc8833a8",
   "metadata": {},
   "source": [
    "## Function definitions below"
   ]
  },
  {
   "cell_type": "code",
   "execution_count": null,
   "id": "d5128418",
   "metadata": {},
   "outputs": [],
   "source": [
    "def aaCapping(mol):\n",
    "    \"\"\"Caps the N- and C-termini of an alpha-amino acid (add an acetyl group and N-methyl group, respectively).\n",
    "    \n",
    "    Intended to mimic an amino acid in the polypeptide context, i.e. with amide bonds instead of free amine and carboxyl groups.\n",
    "    \n",
    "    Parameters\n",
    "    ----------\n",
    "    mol : RDKit Mol object\n",
    "    \n",
    "    Returns\n",
    "    -------\n",
    "    RDKit Mol object with capped C- and N-termini if input is an alpha-amino acid; returns input molecule if not an alpha-amino acid\n",
    "\n",
    "    \"\"\"\n",
    "    # set patterns corresponding to amino acid skeletons\n",
    "    patt_1a = Chem.MolFromSmarts('[NX3:1][CX4H]([*:3])[CX3:2](=[OX1])[O]') # monosubstituted alpha-AA\n",
    "    patt_gly = Chem.MolFromSmarts('[NX3:1][CX4H2][CX3:2](=[OX1])[O]') # glycine\n",
    "    patt_sec_gly = Chem.MolFromSmarts('[*:3][NX3:1][CX4H2][CX3:2](=[OX1])[O]') # N-substituted glycines\n",
    "    patt_sec_amine = Chem.MolFromSmarts('[*:3][NX3:1][CX4H]([*:4])[CX3:2](=[OX1])[O]') # N-substituted, monosubstituted\n",
    "    # recalculate implicit valence and ring info before transformation\n",
    "    mol.UpdatePropertyCache()\n",
    "    if mol.HasSubstructMatch(patt_1a):\n",
    "        cap = rdChemReactions.ReactionFromSmarts('[NX3:1][CX4H]([*:3])[CX3:2](=[OX1])[O]>>[NX3:1](C(=O)C)[CX4H]([*:3])[CX3:2](=[OX1])NC')\n",
    "    elif mol.HasSubstructMatch(patt_gly):\n",
    "        cap = rdChemReactions.ReactionFromSmarts('[NX3:1][CX4H2][CX3:2](=[OX1])[O]>>[NX3:1](C(=O)C)[CX4H2][CX3:2](=[OX1])NC')\n",
    "    elif mol.HasSubstructMatch(patt_sec_gly):\n",
    "        cap = rdChemReactions.ReactionFromSmarts('[*:3][NX3:1][CX4H2][CX3:2](=[OX1])[O]>>[*:3][NX3:1](C(=O)C)[CX4H2][CX3:2](=[OX1])NC')\n",
    "    elif mol.HasSubstructMatch(patt_sec_amine):\n",
    "        cap = rdChemReactions.ReactionFromSmarts('[*:3][NX3:1][CX4H]([*:4])[CX3:2](=[OX1])[O]>>[*:3][NX3:1](C(=O)C)[CX4H]([*:4])[CX3:2](=[OX1])NC')\n",
    "    else:\n",
    "        cap = None\n",
    "    if cap != None:\n",
    "        return cap.RunReactant(mol,0)[0][0]\n",
    "    else:\n",
    "        return mol"
   ]
  },
  {
   "cell_type": "markdown",
   "id": "626ab6c8",
   "metadata": {},
   "source": [
    "## Main program"
   ]
  },
  {
   "cell_type": "code",
   "execution_count": null,
   "id": "826d3599",
   "metadata": {},
   "outputs": [],
   "source": [
    "# load in data file\n",
    "data = Chem.SDMolSupplier(in_file)\n",
    "# create file writer\n",
    "w = Chem.SDWriter(out_file)\n",
    "# loop through each input structure, cap and write to file\n",
    "for mol in data:\n",
    "    mol_cap = aaCapping(mol)\n",
    "    w.write(mol_cap)\n",
    "w.close()"
   ]
  }
 ],
 "metadata": {
  "kernelspec": {
   "display_name": "Python 3 (ipykernel)",
   "language": "python",
   "name": "python3"
  },
  "language_info": {
   "codemirror_mode": {
    "name": "ipython",
    "version": 3
   },
   "file_extension": ".py",
   "mimetype": "text/x-python",
   "name": "python",
   "nbconvert_exporter": "python",
   "pygments_lexer": "ipython3",
   "version": "3.7.11"
  }
 },
 "nbformat": 4,
 "nbformat_minor": 5
}
