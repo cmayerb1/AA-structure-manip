{
 "cells": [
  {
   "cell_type": "markdown",
   "id": "4b8e2b75",
   "metadata": {},
   "source": [
    "# This notebook contains code for replacing a pseudoatom (currently P) with another, constant substructure.  The following functions are currently configured to substitute a trivalent P atom with an alpha-amino backbone plus beta-carbon (e.g. an alanine moiety).  This code can be modified to use a different pseudoatom or a different replacement substructure."
   ]
  },
  {
   "cell_type": "markdown",
   "id": "85f6d20c",
   "metadata": {},
   "source": [
    "## Module imports below"
   ]
  },
  {
   "cell_type": "code",
   "execution_count": 1,
   "id": "6a84a9c9",
   "metadata": {},
   "outputs": [],
   "source": [
    "from rdkit import Chem\n",
    "from rdkit.Chem import rdChemReactions\n",
    "import re"
   ]
  },
  {
   "cell_type": "markdown",
   "id": "6bb90a60",
   "metadata": {},
   "source": [
    "## Function definitions below"
   ]
  },
  {
   "cell_type": "code",
   "execution_count": 2,
   "id": "bedb3e5a",
   "metadata": {},
   "outputs": [],
   "source": [
    "def pseudoReplace(mol):\n",
    "    \"\"\"Replace pseudoatom with alpha-amino acid backbone.\n",
    "    \n",
    "    Replaces trivalent phosphorous atom with an alpha-amino acid backbone and beta-carbon.\n",
    "    SMARTS patterns can be modified to accommodate different pseudoatom symbols, valences, or replacement substructures\n",
    "\n",
    "    Parameters\n",
    "    ----------\n",
    "    mol : RDKit Mol object\n",
    "        Mol object with trivalent P pseudo atom\n",
    "\n",
    "    Returns\n",
    "    -------\n",
    "    RDKit Mol object with P pseudo atom replaced.  Returns input Mol if P atom is not present.\n",
    "\n",
    "    \"\"\"\n",
    "    # SMARTS patterns for different numbers of P heavy-atom neighbors\n",
    "    three_neighbor = Chem.MolFromSmarts(\"[PD3,pD3]\")\n",
    "    two_neighbor = Chem.MolFromSmarts(\"[PD2,pD2]\")\n",
    "    one_neighbor = Chem.MolFromSmarts(\"[PD1,pD1]\")\n",
    "    three_h = Chem.MolFromSmarts(\"[PX3&H3]\")\n",
    "    # first match # of P non-H neighbors, then bonding patterns among those neighbors; return input molecule if no matches\n",
    "    if mol.HasSubstructMatch(three_neighbor): # P with 0 hydrogens\n",
    "        rxn = rdChemReactions.ReactionFromSmarts(\"[PD3,pD3]([*:2])([*:3])[*:1]>>NC(C(=O)O)C([*:2])([*:3])[*:1]\")\n",
    "        return rxn.RunReactant(mol,0)[0][0]\n",
    "    elif mol.HasSubstructMatch(two_neighbor): # P with 2 neighbors\n",
    "        if mol.HasSubstructMatch(Chem.MolFromSmarts(\"[PD2,pD2]=[*]\")):\n",
    "            rxn = rdChemReactions.ReactionFromSmarts(\"[PD2,pD2]([*:2])=[*:1]>>NC(C(=O)O)C([*:2])=[*:1]\")\n",
    "            return rxn.RunReactant(mol,0)[0][0]\n",
    "        else:\n",
    "            rxn = rdChemReactions.ReactionFromSmarts(\"[PD2,pD2]([*:2])[*:1]>>NC(C(=O)O)C([*:2])[*:1]\")\n",
    "            return rxn.RunReactant(mol,0)[0][0]\n",
    "    elif mol.HasSubstructMatch(one_neighbor): # P with 1 neighbor\n",
    "        if mol.HasSubstructMatch(Chem.MolFromSmarts(\"[PD1]#[*]\")):\n",
    "            rxn = rdChemReactions.ReactionFromSmarts(\"[PD1]#[*:1]>>NC(C(=O)O)C#[*:1]\")\n",
    "            return rxn.RunReactant(mol,0)[0][0]\n",
    "        elif mol.HasSubstructMatch(Chem.MolFromSmarts(\"[PD1]=[*]\")):\n",
    "            rxn = rdChemReactions.ReactionFromSmarts(\"[PD1]=[*:1]>>NC(C(=O)O)C=[*:1]\")\n",
    "            return rxn.RunReactant(mol,0)[0][0]\n",
    "        else:\n",
    "            rxn = rdChemReactions.ReactionFromSmarts(\"[PD1][*:1]>>NC(C(=O)O)C[*:1]\")\n",
    "            return rxn.RunReactant(mol,0)[0][0]\n",
    "    elif mol.HasSubstructMatch(three_h): # P with 3 hydrogens, replace with Ala\n",
    "        return Chem.MolFromSmiles(\"NC(C(=O)O)C\")\n",
    "    else: # if P pseudo atom isn't present in input molecule\n",
    "        return mol"
   ]
  },
  {
   "cell_type": "code",
   "execution_count": 3,
   "id": "03472a50",
   "metadata": {},
   "outputs": [],
   "source": [
    "def bracketRemove(smi):\n",
    "    \"\"\"Remove brackets from string.\n",
    "    \n",
    "    Removes brackets that surround single characters in a string.  Written to remove brackets from around single atoms in some SMILES strings where they are not useful to the program.\n",
    "\n",
    "    Parameters\n",
    "    ----------\n",
    "    smi : string\n",
    "\n",
    "    Returns\n",
    "    -------\n",
    "    Input string without brackets surrounding single letters\n",
    "\n",
    "    \"\"\"\n",
    "    m = re.sub(r\"\\[(\\w)]\", r'\\1', smi)\n",
    "    return m"
   ]
  },
  {
   "cell_type": "markdown",
   "id": "4b2f10aa",
   "metadata": {},
   "source": [
    "## Enter input and output filenames (must be in .sdf format) in cell below"
   ]
  },
  {
   "cell_type": "code",
   "execution_count": null,
   "id": "b322afd2",
   "metadata": {},
   "outputs": [],
   "source": [
    "in_file = \"<enter input filepath here>\"\n",
    "out_file = \"<enter desired output filepath>\""
   ]
  },
  {
   "cell_type": "markdown",
   "id": "a61e78b9",
   "metadata": {},
   "source": [
    "## Main program"
   ]
  },
  {
   "cell_type": "code",
   "execution_count": null,
   "id": "de438ff0",
   "metadata": {},
   "outputs": [],
   "source": [
    "# load in data file\n",
    "data = Chem.SDMolSupplier(in_file)\n",
    "# create file writer\n",
    "w = Chem.SDWriter(out_file)\n",
    "for mol in data:\n",
    "    mol2 = Chem.MolFromSmiles(bracketRemove(Chem.MolToSmiles(mol)))\n",
    "    new_mol = pseudoReplace(mol2)\n",
    "    w.write(new_mol)\n",
    "w.close()"
   ]
  }
 ],
 "metadata": {
  "kernelspec": {
   "display_name": "Python 3 (ipykernel)",
   "language": "python",
   "name": "python3"
  },
  "language_info": {
   "codemirror_mode": {
    "name": "ipython",
    "version": 3
   },
   "file_extension": ".py",
   "mimetype": "text/x-python",
   "name": "python",
   "nbconvert_exporter": "python",
   "pygments_lexer": "ipython3",
   "version": "3.7.11"
  }
 },
 "nbformat": 4,
 "nbformat_minor": 5
}
